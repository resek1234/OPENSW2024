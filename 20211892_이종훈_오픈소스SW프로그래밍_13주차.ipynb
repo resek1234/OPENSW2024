{
  "nbformat": 4,
  "nbformat_minor": 0,
  "metadata": {
    "colab": {
      "provenance": []
    },
    "kernelspec": {
      "name": "python3",
      "display_name": "Python 3"
    },
    "language_info": {
      "name": "python"
    }
  },
  "cells": [
    {
      "cell_type": "code",
      "execution_count": 1,
      "metadata": {
        "colab": {
          "base_uri": "https://localhost:8080/"
        },
        "id": "sIkU2dlcTKW5",
        "outputId": "831dfb74-12ce-4480-f435-037d59d543d8"
      },
      "outputs": [
        {
          "output_type": "execute_result",
          "data": {
            "text/plain": [
              "[1, 2, 3, 4]"
            ]
          },
          "metadata": {},
          "execution_count": 1
        }
      ],
      "source": [
        "a = [1, 2, 3]\n",
        "b = a\n",
        "b.append(4)\n",
        "b"
      ]
    },
    {
      "cell_type": "code",
      "source": [
        "class Gizmo:\n",
        "    def __init__(self):\n",
        "        print(f'Gizmo id: {id(self)}')"
      ],
      "metadata": {
        "id": "91YuJGCITcck"
      },
      "execution_count": 2,
      "outputs": []
    },
    {
      "cell_type": "code",
      "source": [
        "x = Gizmo()"
      ],
      "metadata": {
        "colab": {
          "base_uri": "https://localhost:8080/"
        },
        "id": "qwLPz6txTyxB",
        "outputId": "9c33d6e5-069c-451b-94f6-3d5012fb4a52"
      },
      "execution_count": 3,
      "outputs": [
        {
          "output_type": "stream",
          "name": "stdout",
          "text": [
            "Gizmo id: 138673630666448\n"
          ]
        }
      ]
    },
    {
      "cell_type": "code",
      "source": [
        "y = Gizmo()*10"
      ],
      "metadata": {
        "colab": {
          "base_uri": "https://localhost:8080/",
          "height": 164
        },
        "id": "2xYZgs8QT0Xd",
        "outputId": "1ad0a64c-5329-466d-d763-b821ec64d4b5"
      },
      "execution_count": 5,
      "outputs": [
        {
          "output_type": "stream",
          "name": "stdout",
          "text": [
            "Gizmo id: 138673630665584\n"
          ]
        },
        {
          "output_type": "error",
          "ename": "TypeError",
          "evalue": "unsupported operand type(s) for *: 'Gizmo' and 'int'",
          "traceback": [
            "\u001b[0;31m---------------------------------------------------------------------------\u001b[0m",
            "\u001b[0;31mTypeError\u001b[0m                                 Traceback (most recent call last)",
            "\u001b[0;32m<ipython-input-5-1566eb7dd71b>\u001b[0m in \u001b[0;36m<cell line: 1>\u001b[0;34m()\u001b[0m\n\u001b[0;32m----> 1\u001b[0;31m \u001b[0my\u001b[0m \u001b[0;34m=\u001b[0m \u001b[0mGizmo\u001b[0m\u001b[0;34m(\u001b[0m\u001b[0;34m)\u001b[0m\u001b[0;34m*\u001b[0m\u001b[0;36m10\u001b[0m\u001b[0;34m\u001b[0m\u001b[0;34m\u001b[0m\u001b[0m\n\u001b[0m",
            "\u001b[0;31mTypeError\u001b[0m: unsupported operand type(s) for *: 'Gizmo' and 'int'"
          ]
        }
      ]
    },
    {
      "cell_type": "code",
      "source": [
        "charles = {'name': 'Charles L. Dodgson', 'born':1832}\n",
        "lewis = charles"
      ],
      "metadata": {
        "id": "uWmuXSciT2OE"
      },
      "execution_count": 6,
      "outputs": []
    },
    {
      "cell_type": "code",
      "source": [
        "lewis is charles"
      ],
      "metadata": {
        "colab": {
          "base_uri": "https://localhost:8080/"
        },
        "id": "hNuuG0ZfUPsG",
        "outputId": "34b5e79d-e138-4ce3-bd0e-fdd862ae4a3b"
      },
      "execution_count": 7,
      "outputs": [
        {
          "output_type": "execute_result",
          "data": {
            "text/plain": [
              "True"
            ]
          },
          "metadata": {},
          "execution_count": 7
        }
      ]
    },
    {
      "cell_type": "code",
      "source": [
        "id(charles), id(lewis)"
      ],
      "metadata": {
        "colab": {
          "base_uri": "https://localhost:8080/"
        },
        "id": "TjXg1VgIUSfj",
        "outputId": "98963758-4f08-4ae3-8168-4eb470d2a076"
      },
      "execution_count": 8,
      "outputs": [
        {
          "output_type": "execute_result",
          "data": {
            "text/plain": [
              "(138673629249792, 138673629249792)"
            ]
          },
          "metadata": {},
          "execution_count": 8
        }
      ]
    },
    {
      "cell_type": "code",
      "source": [
        "lewis['balance'] = 950\n",
        "charles"
      ],
      "metadata": {
        "colab": {
          "base_uri": "https://localhost:8080/"
        },
        "id": "EqsbMnO_UUSb",
        "outputId": "6cf1f609-b310-4f6c-911d-d82f89b5cf9e"
      },
      "execution_count": 9,
      "outputs": [
        {
          "output_type": "execute_result",
          "data": {
            "text/plain": [
              "{'name': 'Charles L. Dodgson', 'born': 1832, 'balance': 950}"
            ]
          },
          "metadata": {},
          "execution_count": 9
        }
      ]
    },
    {
      "cell_type": "code",
      "source": [
        "alex = {'name': 'Charles L. Dodgson', 'born': 1832, 'balance': 950}\n",
        "alex == charles"
      ],
      "metadata": {
        "colab": {
          "base_uri": "https://localhost:8080/"
        },
        "id": "buHeAPfwUdBz",
        "outputId": "ae2ba199-95e3-4545-a8d7-4b08725ac771"
      },
      "execution_count": 10,
      "outputs": [
        {
          "output_type": "execute_result",
          "data": {
            "text/plain": [
              "True"
            ]
          },
          "metadata": {},
          "execution_count": 10
        }
      ]
    },
    {
      "cell_type": "code",
      "source": [
        "alex is charles"
      ],
      "metadata": {
        "colab": {
          "base_uri": "https://localhost:8080/"
        },
        "id": "naILlH8XUxRy",
        "outputId": "7a8f9f0d-423f-4c11-9054-88f9465fb8f1"
      },
      "execution_count": 11,
      "outputs": [
        {
          "output_type": "execute_result",
          "data": {
            "text/plain": [
              "False"
            ]
          },
          "metadata": {},
          "execution_count": 11
        }
      ]
    },
    {
      "cell_type": "code",
      "source": [
        "t1 = (1,2,[30,40])\n",
        "t2 = (1,2,[30,40])\n",
        "t1 == t2, t1 is t2"
      ],
      "metadata": {
        "colab": {
          "base_uri": "https://localhost:8080/"
        },
        "id": "yxx60-weUzjx",
        "outputId": "3fa95581-864d-4682-c0e1-d0b2f44628f2"
      },
      "execution_count": 12,
      "outputs": [
        {
          "output_type": "execute_result",
          "data": {
            "text/plain": [
              "(True, False)"
            ]
          },
          "metadata": {},
          "execution_count": 12
        }
      ]
    },
    {
      "cell_type": "code",
      "source": [
        "id(t1[-1])"
      ],
      "metadata": {
        "colab": {
          "base_uri": "https://localhost:8080/"
        },
        "id": "vuxouaRJVB04",
        "outputId": "3290303a-a881-4ba3-e400-77ee4795e347"
      },
      "execution_count": 13,
      "outputs": [
        {
          "output_type": "execute_result",
          "data": {
            "text/plain": [
              "138672598740544"
            ]
          },
          "metadata": {},
          "execution_count": 13
        }
      ]
    },
    {
      "cell_type": "code",
      "source": [
        "t1[-1].append(99)\n",
        "t1, id(t1[-1])"
      ],
      "metadata": {
        "colab": {
          "base_uri": "https://localhost:8080/"
        },
        "id": "bo7zuithVEAi",
        "outputId": "c4a49cac-008a-4856-a0e8-932973446b73"
      },
      "execution_count": 14,
      "outputs": [
        {
          "output_type": "execute_result",
          "data": {
            "text/plain": [
              "((1, 2, [30, 40, 99]), 138672598740544)"
            ]
          },
          "metadata": {},
          "execution_count": 14
        }
      ]
    },
    {
      "cell_type": "code",
      "source": [
        "t1 == t2"
      ],
      "metadata": {
        "colab": {
          "base_uri": "https://localhost:8080/"
        },
        "id": "k66q85gPVN40",
        "outputId": "9a5bf881-e8a4-4afe-b0f8-28eeeb734597"
      },
      "execution_count": 15,
      "outputs": [
        {
          "output_type": "execute_result",
          "data": {
            "text/plain": [
              "False"
            ]
          },
          "metadata": {},
          "execution_count": 15
        }
      ]
    },
    {
      "cell_type": "code",
      "source": [
        "l1 = [3,[55,44],(7,8,9)]\n",
        "l2 = list(l1)\n",
        "l2"
      ],
      "metadata": {
        "colab": {
          "base_uri": "https://localhost:8080/"
        },
        "id": "AjUyFsMRVPUb",
        "outputId": "44574e65-2ee3-4be4-9fe5-f600839a2cdb"
      },
      "execution_count": 16,
      "outputs": [
        {
          "output_type": "execute_result",
          "data": {
            "text/plain": [
              "[3, [55, 44], (7, 8, 9)]"
            ]
          },
          "metadata": {},
          "execution_count": 16
        }
      ]
    },
    {
      "cell_type": "code",
      "source": [
        "l2 == l1"
      ],
      "metadata": {
        "colab": {
          "base_uri": "https://localhost:8080/"
        },
        "id": "DAy-7F66Vdpc",
        "outputId": "13ae343a-f3be-474b-e058-94b2cb17ec09"
      },
      "execution_count": 17,
      "outputs": [
        {
          "output_type": "execute_result",
          "data": {
            "text/plain": [
              "True"
            ]
          },
          "metadata": {},
          "execution_count": 17
        }
      ]
    },
    {
      "cell_type": "code",
      "source": [
        "l2 is l1"
      ],
      "metadata": {
        "colab": {
          "base_uri": "https://localhost:8080/"
        },
        "id": "jqIJC8Q_Ve6m",
        "outputId": "9bc2ecbc-0d85-4012-90a9-a43ee1d692dd"
      },
      "execution_count": 18,
      "outputs": [
        {
          "output_type": "execute_result",
          "data": {
            "text/plain": [
              "False"
            ]
          },
          "metadata": {},
          "execution_count": 18
        }
      ]
    },
    {
      "cell_type": "code",
      "source": [
        "l1 = [3,[55,44],(7,8,9)]\n",
        "l2 = list(l1)"
      ],
      "metadata": {
        "id": "JUnSW4YrVfrz"
      },
      "execution_count": 19,
      "outputs": []
    },
    {
      "cell_type": "code",
      "source": [
        "l1.append(100)"
      ],
      "metadata": {
        "id": "sQcDNIqUVjxm"
      },
      "execution_count": 20,
      "outputs": []
    },
    {
      "cell_type": "code",
      "source": [
        "l1[1].remove(55)\n",
        "print('l1:',l1)\n",
        "print('l2:',l2)"
      ],
      "metadata": {
        "colab": {
          "base_uri": "https://localhost:8080/"
        },
        "id": "IS8msuAzVmV6",
        "outputId": "2617d057-8654-4fad-d325-1f0ee9d936e3"
      },
      "execution_count": 21,
      "outputs": [
        {
          "output_type": "stream",
          "name": "stdout",
          "text": [
            "l1: [3, [44], (7, 8, 9), 100]\n",
            "l2: [3, [44], (7, 8, 9)]\n"
          ]
        }
      ]
    },
    {
      "cell_type": "code",
      "source": [
        "l2[1] += [33,22]\n",
        "l2[2] += (10,11)\n",
        "print('l1:',l1)\n",
        "print('l2:',l2)"
      ],
      "metadata": {
        "colab": {
          "base_uri": "https://localhost:8080/"
        },
        "id": "xNc5d3J9Vsam",
        "outputId": "d6183d46-38aa-4e7d-aaf9-e0aa5efc46d1"
      },
      "execution_count": 22,
      "outputs": [
        {
          "output_type": "stream",
          "name": "stdout",
          "text": [
            "l1: [3, [44, 33, 22], (7, 8, 9), 100]\n",
            "l2: [3, [44, 33, 22], (7, 8, 9, 10, 11)]\n"
          ]
        }
      ]
    },
    {
      "cell_type": "code",
      "source": [
        "class Bus:\n",
        "  def __init__(self, passengers=None):\n",
        "    if passengers is None:\n",
        "      self.passengers = []\n",
        "    else:\n",
        "      self.passengers = list(passengers)\n",
        "  def pick(self, name):\n",
        "    self.passengers.append(name)\n",
        "  def drop(self, name):\n",
        "    self.passengers.remove(name)"
      ],
      "metadata": {
        "id": "O2hS9wxeV96g"
      },
      "execution_count": 23,
      "outputs": []
    },
    {
      "cell_type": "code",
      "source": [
        "import copy\n",
        "bus1 = Bus(['Alice', 'Bill', 'Claire', 'David'])\n",
        "bus2 = copy.copy(bus1)\n",
        "bus3 = copy.deepcopy(bus1)\n",
        "id(bus1), id(bus2), id(bus3)"
      ],
      "metadata": {
        "colab": {
          "base_uri": "https://localhost:8080/"
        },
        "id": "KeZfdIrtV-OC",
        "outputId": "33f8c29f-b6bc-47e2-9c3f-33e1ae20d783"
      },
      "execution_count": 27,
      "outputs": [
        {
          "output_type": "execute_result",
          "data": {
            "text/plain": [
              "(138672597188512, 138672597181792, 138672597183472)"
            ]
          },
          "metadata": {},
          "execution_count": 27
        }
      ]
    },
    {
      "cell_type": "code",
      "source": [
        "bus1.drop('Bill')\n",
        "bus1.passengers, bus2.passengers, bus3.passengers"
      ],
      "metadata": {
        "colab": {
          "base_uri": "https://localhost:8080/"
        },
        "id": "tn7LT4KdWBr_",
        "outputId": "95d6e09f-0f6a-4fee-d657-c4155aee391a"
      },
      "execution_count": 28,
      "outputs": [
        {
          "output_type": "execute_result",
          "data": {
            "text/plain": [
              "(['Alice', 'Claire', 'David'],\n",
              " ['Alice', 'Claire', 'David'],\n",
              " ['Alice', 'Bill', 'Claire', 'David'])"
            ]
          },
          "metadata": {},
          "execution_count": 28
        }
      ]
    },
    {
      "cell_type": "code",
      "source": [
        "id(bus1.passengers), id(bus2.passengers), id(bus3.passengers)"
      ],
      "metadata": {
        "colab": {
          "base_uri": "https://localhost:8080/"
        },
        "id": "elnYeKgNWGf4",
        "outputId": "40e65cbf-2a43-4c81-e715-d6c8ba1c30cf"
      },
      "execution_count": 29,
      "outputs": [
        {
          "output_type": "execute_result",
          "data": {
            "text/plain": [
              "(138672815933120, 138672815933120, 138672612080640)"
            ]
          },
          "metadata": {},
          "execution_count": 29
        }
      ]
    },
    {
      "cell_type": "code",
      "source": [
        "a = [10,20]\n",
        "b = [a,30]\n",
        "a.append(b)\n",
        "a"
      ],
      "metadata": {
        "colab": {
          "base_uri": "https://localhost:8080/"
        },
        "id": "rayNv1wCWP5p",
        "outputId": "fa8d19ec-8275-4373-fe7d-a9f859e4fa75"
      },
      "execution_count": 30,
      "outputs": [
        {
          "output_type": "execute_result",
          "data": {
            "text/plain": [
              "[10, 20, [[...], 30]]"
            ]
          },
          "metadata": {},
          "execution_count": 30
        }
      ]
    },
    {
      "cell_type": "code",
      "source": [
        "c = copy.deepcopy(a)\n",
        "c"
      ],
      "metadata": {
        "colab": {
          "base_uri": "https://localhost:8080/"
        },
        "id": "6u8qQ0PqWXcH",
        "outputId": "9a12b18a-0a6d-4b92-c4fa-e48f173ce28e"
      },
      "execution_count": 31,
      "outputs": [
        {
          "output_type": "execute_result",
          "data": {
            "text/plain": [
              "[10, 20, [[...], 30]]"
            ]
          },
          "metadata": {},
          "execution_count": 31
        }
      ]
    },
    {
      "cell_type": "code",
      "source": [
        "def f(a, b):\n",
        "  a += b\n",
        "  return a"
      ],
      "metadata": {
        "id": "AbxaKzYNWdNZ"
      },
      "execution_count": 32,
      "outputs": []
    },
    {
      "cell_type": "code",
      "source": [
        "x = 1\n",
        "y = 2\n",
        "f(x,y), (x,y)"
      ],
      "metadata": {
        "colab": {
          "base_uri": "https://localhost:8080/"
        },
        "id": "zvEGy9IaWez8",
        "outputId": "5eec4d20-ce48-4354-f8bc-dbeb7a0e2ad0"
      },
      "execution_count": 33,
      "outputs": [
        {
          "output_type": "execute_result",
          "data": {
            "text/plain": [
              "(3, (1, 2))"
            ]
          },
          "metadata": {},
          "execution_count": 33
        }
      ]
    },
    {
      "cell_type": "code",
      "source": [
        "a = [1,2]\n",
        "b = [3,4]\n",
        "f(a,b), (a, b)"
      ],
      "metadata": {
        "colab": {
          "base_uri": "https://localhost:8080/"
        },
        "id": "IJHwMp7MWjEc",
        "outputId": "6444a65d-3f6f-4b20-8746-2ba7f4fa19a5"
      },
      "execution_count": 35,
      "outputs": [
        {
          "output_type": "execute_result",
          "data": {
            "text/plain": [
              "([1, 2, 3, 4], ([1, 2, 3, 4], [3, 4]))"
            ]
          },
          "metadata": {},
          "execution_count": 35
        }
      ]
    },
    {
      "cell_type": "code",
      "source": [
        "t = (10, 20)\n",
        "u = (30, 40)\n",
        "f(t,u), (t, u)"
      ],
      "metadata": {
        "colab": {
          "base_uri": "https://localhost:8080/"
        },
        "id": "SK0--6lAWmr8",
        "outputId": "ebbd9fad-b517-4521-c45b-d923f7373df0"
      },
      "execution_count": 37,
      "outputs": [
        {
          "output_type": "execute_result",
          "data": {
            "text/plain": [
              "((10, 20, 30, 40), ((10, 20), (30, 40)))"
            ]
          },
          "metadata": {},
          "execution_count": 37
        }
      ]
    },
    {
      "cell_type": "code",
      "source": [
        "class HauntedBus:\n",
        "  \"\"\"유령 승객이 출몰하는 버스 모델\"\"\"\n",
        "  def __init__(self, passengers=[]):\n",
        "    self.passengers = passengers\n",
        "  def pick(self, name):\n",
        "    self.passengers.append(name)\n",
        "  def drop(self, name):\n",
        "    self.passengers.remove(name)"
      ],
      "metadata": {
        "id": "jI_lcKuXXI2E"
      },
      "execution_count": 60,
      "outputs": []
    },
    {
      "cell_type": "code",
      "source": [
        "bus1 = HauntedBus(['Alice', 'Bill'])\n",
        "bus1.passengers"
      ],
      "metadata": {
        "colab": {
          "base_uri": "https://localhost:8080/"
        },
        "id": "nrLrGkFmY6hC",
        "outputId": "9e27bc66-3be7-4886-81fc-dda69e323ed6"
      },
      "execution_count": 61,
      "outputs": [
        {
          "output_type": "execute_result",
          "data": {
            "text/plain": [
              "['Alice', 'Bill']"
            ]
          },
          "metadata": {},
          "execution_count": 61
        }
      ]
    },
    {
      "cell_type": "code",
      "source": [
        "bus1.pick('charlie')\n",
        "bus1.drop('Alice')\n",
        "bus1.passengers"
      ],
      "metadata": {
        "colab": {
          "base_uri": "https://localhost:8080/"
        },
        "id": "mls94AvJZCt8",
        "outputId": "8e57f325-a303-4aa8-cf9e-58037e4bd6ec"
      },
      "execution_count": 62,
      "outputs": [
        {
          "output_type": "execute_result",
          "data": {
            "text/plain": [
              "['Bill', 'charlie']"
            ]
          },
          "metadata": {},
          "execution_count": 62
        }
      ]
    },
    {
      "cell_type": "code",
      "source": [
        "bus2 = HauntedBus()\n",
        "bus2.pick('Carrie')\n",
        "bus2.passengers"
      ],
      "metadata": {
        "colab": {
          "base_uri": "https://localhost:8080/"
        },
        "id": "8gysyWh8ZGfj",
        "outputId": "3fe72f7e-5c79-4df7-f9f7-a6fc9c940515"
      },
      "execution_count": 63,
      "outputs": [
        {
          "output_type": "execute_result",
          "data": {
            "text/plain": [
              "['Carrie']"
            ]
          },
          "metadata": {},
          "execution_count": 63
        }
      ]
    },
    {
      "cell_type": "code",
      "source": [
        "bus3 = HauntedBus()\n",
        "bus3.passengers"
      ],
      "metadata": {
        "colab": {
          "base_uri": "https://localhost:8080/"
        },
        "id": "BJtmtQOdZSns",
        "outputId": "783df2e3-1cb6-4581-fc06-f1fb24811dd0"
      },
      "execution_count": 64,
      "outputs": [
        {
          "output_type": "execute_result",
          "data": {
            "text/plain": [
              "['Carrie']"
            ]
          },
          "metadata": {},
          "execution_count": 64
        }
      ]
    },
    {
      "cell_type": "code",
      "source": [
        "bus3.pick('Dave')\n",
        "bus2.passengers"
      ],
      "metadata": {
        "id": "D2C-os96Zl7M",
        "outputId": "94fc7c7a-9501-4d08-fc1c-2860483024d5",
        "colab": {
          "base_uri": "https://localhost:8080/"
        }
      },
      "execution_count": 65,
      "outputs": [
        {
          "output_type": "execute_result",
          "data": {
            "text/plain": [
              "['Carrie', 'Dave']"
            ]
          },
          "metadata": {},
          "execution_count": 65
        }
      ]
    },
    {
      "cell_type": "code",
      "source": [
        "bus2.passengers is bus3.passengers"
      ],
      "metadata": {
        "id": "2-Q1-4ZxZpml",
        "outputId": "86d8346f-9307-4f10-c6fa-411ff915e03c",
        "colab": {
          "base_uri": "https://localhost:8080/"
        }
      },
      "execution_count": 66,
      "outputs": [
        {
          "output_type": "execute_result",
          "data": {
            "text/plain": [
              "True"
            ]
          },
          "metadata": {},
          "execution_count": 66
        }
      ]
    },
    {
      "cell_type": "code",
      "source": [
        "bus1.passengers"
      ],
      "metadata": {
        "id": "bSb1YW-XZsDa",
        "outputId": "d58b2078-f394-4d1f-8e57-71358cb41dfe",
        "colab": {
          "base_uri": "https://localhost:8080/"
        }
      },
      "execution_count": 67,
      "outputs": [
        {
          "output_type": "execute_result",
          "data": {
            "text/plain": [
              "['Bill', 'charlie']"
            ]
          },
          "metadata": {},
          "execution_count": 67
        }
      ]
    },
    {
      "cell_type": "code",
      "source": [
        "HauntedBus.__init__.__defaults__"
      ],
      "metadata": {
        "id": "-CAlMCUdZtI6",
        "outputId": "eec3c638-bc05-4662-bbdb-519de442fe2b",
        "colab": {
          "base_uri": "https://localhost:8080/"
        }
      },
      "execution_count": 68,
      "outputs": [
        {
          "output_type": "execute_result",
          "data": {
            "text/plain": [
              "(['Carrie', 'Dave'],)"
            ]
          },
          "metadata": {},
          "execution_count": 68
        }
      ]
    },
    {
      "cell_type": "code",
      "source": [
        "HauntedBus.__init__.__defaults__[0] is bus2.passengers"
      ],
      "metadata": {
        "id": "I_ka2RHUaGK1",
        "outputId": "2d0f9b8d-dc4c-4c09-ac05-f1281b244aed",
        "colab": {
          "base_uri": "https://localhost:8080/"
        }
      },
      "execution_count": 69,
      "outputs": [
        {
          "output_type": "execute_result",
          "data": {
            "text/plain": [
              "True"
            ]
          },
          "metadata": {},
          "execution_count": 69
        }
      ]
    },
    {
      "cell_type": "code",
      "source": [
        "class TwilightBus:\n",
        "  \"\"\"승객이 사라지게 만드는 버스 모델\"\"\"\n",
        "  def __init__(self, passengers=None):\n",
        "    if passengers is None:\n",
        "      self.passengers = []\n",
        "    else:\n",
        "      self.passengers = passengers\n",
        "  def pick(self, name):\n",
        "      self.passengers.append(name)\n",
        "  def drop(self, name):\n",
        "      self.passengers.remove(name)"
      ],
      "metadata": {
        "id": "LOhL7oWfaY09"
      },
      "execution_count": 70,
      "outputs": []
    },
    {
      "cell_type": "code",
      "source": [
        "basketball_team = ['Sue', 'Tina', 'Maya', 'Diana', 'Pat']\n",
        "bus = TwilightBus(basketball_team)\n",
        "bus.drop('Tina')\n",
        "bus.drop('Pat')\n",
        "basketball_team"
      ],
      "metadata": {
        "id": "s2odiv8kadd2",
        "outputId": "0401f219-3999-486c-b62c-4067922b969f",
        "colab": {
          "base_uri": "https://localhost:8080/"
        }
      },
      "execution_count": 71,
      "outputs": [
        {
          "output_type": "execute_result",
          "data": {
            "text/plain": [
              "['Sue', 'Maya', 'Diana']"
            ]
          },
          "metadata": {},
          "execution_count": 71
        }
      ]
    },
    {
      "cell_type": "code",
      "source": [
        "class TwilightBus:\n",
        "  \"\"\"승객이 사라지게 만드는 버스 모델\"\"\"\n",
        "\n",
        "  def __init__(self, passengers=None):\n",
        "    if passengers is None:\n",
        "      self.passengers = []\n",
        "    else:\n",
        "      self.passengers = list(passengers)\n",
        "\n",
        "  def pick(self, name):\n",
        "      self.passengers.append(name)\n",
        "\n",
        "  def drop(self, name):\n",
        "      self.passengers.remove(name)"
      ],
      "metadata": {
        "id": "Y7B7yQSHah6z"
      },
      "execution_count": 72,
      "outputs": []
    },
    {
      "cell_type": "code",
      "source": [
        "basketball_team = ['Sue', 'Tina', 'Maya', 'Diana', 'Pat']\n",
        "bus = TwilightBus(basketball_team)\n",
        "bus.drop('Tina')\n",
        "bus.drop('Pat')\n",
        "basketball_team"
      ],
      "metadata": {
        "id": "zjoA06b9appg",
        "outputId": "a25cb113-b1af-41c8-b739-bde499602b43",
        "colab": {
          "base_uri": "https://localhost:8080/"
        }
      },
      "execution_count": 74,
      "outputs": [
        {
          "output_type": "execute_result",
          "data": {
            "text/plain": [
              "['Sue', 'Tina', 'Maya', 'Diana', 'Pat']"
            ]
          },
          "metadata": {},
          "execution_count": 74
        }
      ]
    },
    {
      "cell_type": "code",
      "source": [
        "import weakref\n",
        "s1 = {1,2,3}\n",
        "s2 = s1\n",
        "def bye():\n",
        "  print('Gone with the wind...')\n",
        "ender = weakref.finalize(s1, bye)\n",
        "ender.alive"
      ],
      "metadata": {
        "id": "fkyU1C5Qa0lQ",
        "outputId": "77216f12-5439-44d5-85d8-9b1242ce583d",
        "colab": {
          "base_uri": "https://localhost:8080/"
        }
      },
      "execution_count": 75,
      "outputs": [
        {
          "output_type": "execute_result",
          "data": {
            "text/plain": [
              "True"
            ]
          },
          "metadata": {},
          "execution_count": 75
        }
      ]
    },
    {
      "cell_type": "code",
      "source": [
        "del s1\n",
        "ender.alive"
      ],
      "metadata": {
        "id": "LZPlP5fVa2n2",
        "outputId": "3b3412fd-2484-4fbd-cd32-b3debe795994",
        "colab": {
          "base_uri": "https://localhost:8080/"
        }
      },
      "execution_count": 76,
      "outputs": [
        {
          "output_type": "execute_result",
          "data": {
            "text/plain": [
              "True"
            ]
          },
          "metadata": {},
          "execution_count": 76
        }
      ]
    },
    {
      "cell_type": "code",
      "source": [
        "s2 = 'spam'"
      ],
      "metadata": {
        "id": "cgNM0FD1a4J5"
      },
      "execution_count": 77,
      "outputs": []
    },
    {
      "cell_type": "code",
      "source": [
        "ender.alive"
      ],
      "metadata": {
        "id": "K1gZO2nSa5h9",
        "outputId": "f9ce8bcf-e3f7-46f3-845a-1e5e680fad3d",
        "colab": {
          "base_uri": "https://localhost:8080/"
        }
      },
      "execution_count": 78,
      "outputs": [
        {
          "output_type": "execute_result",
          "data": {
            "text/plain": [
              "False"
            ]
          },
          "metadata": {},
          "execution_count": 78
        }
      ]
    }
  ]
}